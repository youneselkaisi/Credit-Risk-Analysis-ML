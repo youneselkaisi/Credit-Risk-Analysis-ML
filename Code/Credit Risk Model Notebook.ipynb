{
 "cells": [
  {
   "cell_type": "code",
   "execution_count": 53,
   "id": "ca44f217-79d4-471a-9f0c-21a8ad8e0fa8",
   "metadata": {},
   "outputs": [],
   "source": [
    "import pandas as pd\n",
    "import matplotlib.pyplot as plt"
   ]
  },
  {
   "cell_type": "markdown",
   "id": "7e84ae15-6d58-42c8-9034-5f9e856a195e",
   "metadata": {},
   "source": [
    "# Part 1: Data Exploration"
   ]
  },
  {
   "cell_type": "code",
   "execution_count": 56,
   "id": "08199e57-191a-41b7-8c13-2c7058d31f4f",
   "metadata": {},
   "outputs": [
    {
     "data": {
      "text/html": [
       "<div>\n",
       "<style scoped>\n",
       "    .dataframe tbody tr th:only-of-type {\n",
       "        vertical-align: middle;\n",
       "    }\n",
       "\n",
       "    .dataframe tbody tr th {\n",
       "        vertical-align: top;\n",
       "    }\n",
       "\n",
       "    .dataframe thead th {\n",
       "        text-align: right;\n",
       "    }\n",
       "</style>\n",
       "<table border=\"1\" class=\"dataframe\">\n",
       "  <thead>\n",
       "    <tr style=\"text-align: right;\">\n",
       "      <th></th>\n",
       "      <th>person_age</th>\n",
       "      <th>person_income</th>\n",
       "      <th>person_home_ownership</th>\n",
       "      <th>person_emp_length</th>\n",
       "      <th>loan_intent</th>\n",
       "      <th>loan_grade</th>\n",
       "      <th>loan_amnt</th>\n",
       "      <th>loan_int_rate</th>\n",
       "      <th>loan_status</th>\n",
       "      <th>loan_percent_income</th>\n",
       "      <th>cb_person_default_on_file</th>\n",
       "      <th>cb_person_cred_hist_length</th>\n",
       "    </tr>\n",
       "  </thead>\n",
       "  <tbody>\n",
       "    <tr>\n",
       "      <th>0</th>\n",
       "      <td>22</td>\n",
       "      <td>59000</td>\n",
       "      <td>RENT</td>\n",
       "      <td>123.0</td>\n",
       "      <td>PERSONAL</td>\n",
       "      <td>D</td>\n",
       "      <td>35000</td>\n",
       "      <td>16.02</td>\n",
       "      <td>1</td>\n",
       "      <td>0.59</td>\n",
       "      <td>Y</td>\n",
       "      <td>3</td>\n",
       "    </tr>\n",
       "    <tr>\n",
       "      <th>1</th>\n",
       "      <td>21</td>\n",
       "      <td>9600</td>\n",
       "      <td>OWN</td>\n",
       "      <td>5.0</td>\n",
       "      <td>EDUCATION</td>\n",
       "      <td>B</td>\n",
       "      <td>1000</td>\n",
       "      <td>11.14</td>\n",
       "      <td>0</td>\n",
       "      <td>0.10</td>\n",
       "      <td>N</td>\n",
       "      <td>2</td>\n",
       "    </tr>\n",
       "    <tr>\n",
       "      <th>2</th>\n",
       "      <td>25</td>\n",
       "      <td>9600</td>\n",
       "      <td>MORTGAGE</td>\n",
       "      <td>1.0</td>\n",
       "      <td>MEDICAL</td>\n",
       "      <td>C</td>\n",
       "      <td>5500</td>\n",
       "      <td>12.87</td>\n",
       "      <td>1</td>\n",
       "      <td>0.57</td>\n",
       "      <td>N</td>\n",
       "      <td>3</td>\n",
       "    </tr>\n",
       "    <tr>\n",
       "      <th>3</th>\n",
       "      <td>23</td>\n",
       "      <td>65500</td>\n",
       "      <td>RENT</td>\n",
       "      <td>4.0</td>\n",
       "      <td>MEDICAL</td>\n",
       "      <td>C</td>\n",
       "      <td>35000</td>\n",
       "      <td>15.23</td>\n",
       "      <td>1</td>\n",
       "      <td>0.53</td>\n",
       "      <td>N</td>\n",
       "      <td>2</td>\n",
       "    </tr>\n",
       "    <tr>\n",
       "      <th>4</th>\n",
       "      <td>24</td>\n",
       "      <td>54400</td>\n",
       "      <td>RENT</td>\n",
       "      <td>8.0</td>\n",
       "      <td>MEDICAL</td>\n",
       "      <td>C</td>\n",
       "      <td>35000</td>\n",
       "      <td>14.27</td>\n",
       "      <td>1</td>\n",
       "      <td>0.55</td>\n",
       "      <td>Y</td>\n",
       "      <td>4</td>\n",
       "    </tr>\n",
       "    <tr>\n",
       "      <th>...</th>\n",
       "      <td>...</td>\n",
       "      <td>...</td>\n",
       "      <td>...</td>\n",
       "      <td>...</td>\n",
       "      <td>...</td>\n",
       "      <td>...</td>\n",
       "      <td>...</td>\n",
       "      <td>...</td>\n",
       "      <td>...</td>\n",
       "      <td>...</td>\n",
       "      <td>...</td>\n",
       "      <td>...</td>\n",
       "    </tr>\n",
       "    <tr>\n",
       "      <th>32576</th>\n",
       "      <td>57</td>\n",
       "      <td>53000</td>\n",
       "      <td>MORTGAGE</td>\n",
       "      <td>1.0</td>\n",
       "      <td>PERSONAL</td>\n",
       "      <td>C</td>\n",
       "      <td>5800</td>\n",
       "      <td>13.16</td>\n",
       "      <td>0</td>\n",
       "      <td>0.11</td>\n",
       "      <td>N</td>\n",
       "      <td>30</td>\n",
       "    </tr>\n",
       "    <tr>\n",
       "      <th>32577</th>\n",
       "      <td>54</td>\n",
       "      <td>120000</td>\n",
       "      <td>MORTGAGE</td>\n",
       "      <td>4.0</td>\n",
       "      <td>PERSONAL</td>\n",
       "      <td>A</td>\n",
       "      <td>17625</td>\n",
       "      <td>7.49</td>\n",
       "      <td>0</td>\n",
       "      <td>0.15</td>\n",
       "      <td>N</td>\n",
       "      <td>19</td>\n",
       "    </tr>\n",
       "    <tr>\n",
       "      <th>32578</th>\n",
       "      <td>65</td>\n",
       "      <td>76000</td>\n",
       "      <td>RENT</td>\n",
       "      <td>3.0</td>\n",
       "      <td>HOMEIMPROVEMENT</td>\n",
       "      <td>B</td>\n",
       "      <td>35000</td>\n",
       "      <td>10.99</td>\n",
       "      <td>1</td>\n",
       "      <td>0.46</td>\n",
       "      <td>N</td>\n",
       "      <td>28</td>\n",
       "    </tr>\n",
       "    <tr>\n",
       "      <th>32579</th>\n",
       "      <td>56</td>\n",
       "      <td>150000</td>\n",
       "      <td>MORTGAGE</td>\n",
       "      <td>5.0</td>\n",
       "      <td>PERSONAL</td>\n",
       "      <td>B</td>\n",
       "      <td>15000</td>\n",
       "      <td>11.48</td>\n",
       "      <td>0</td>\n",
       "      <td>0.10</td>\n",
       "      <td>N</td>\n",
       "      <td>26</td>\n",
       "    </tr>\n",
       "    <tr>\n",
       "      <th>32580</th>\n",
       "      <td>66</td>\n",
       "      <td>42000</td>\n",
       "      <td>RENT</td>\n",
       "      <td>2.0</td>\n",
       "      <td>MEDICAL</td>\n",
       "      <td>B</td>\n",
       "      <td>6475</td>\n",
       "      <td>9.99</td>\n",
       "      <td>0</td>\n",
       "      <td>0.15</td>\n",
       "      <td>N</td>\n",
       "      <td>30</td>\n",
       "    </tr>\n",
       "  </tbody>\n",
       "</table>\n",
       "<p>32581 rows × 12 columns</p>\n",
       "</div>"
      ],
      "text/plain": [
       "       person_age  person_income person_home_ownership  person_emp_length  \\\n",
       "0              22          59000                  RENT              123.0   \n",
       "1              21           9600                   OWN                5.0   \n",
       "2              25           9600              MORTGAGE                1.0   \n",
       "3              23          65500                  RENT                4.0   \n",
       "4              24          54400                  RENT                8.0   \n",
       "...           ...            ...                   ...                ...   \n",
       "32576          57          53000              MORTGAGE                1.0   \n",
       "32577          54         120000              MORTGAGE                4.0   \n",
       "32578          65          76000                  RENT                3.0   \n",
       "32579          56         150000              MORTGAGE                5.0   \n",
       "32580          66          42000                  RENT                2.0   \n",
       "\n",
       "           loan_intent loan_grade  loan_amnt  loan_int_rate  loan_status  \\\n",
       "0             PERSONAL          D      35000          16.02            1   \n",
       "1            EDUCATION          B       1000          11.14            0   \n",
       "2              MEDICAL          C       5500          12.87            1   \n",
       "3              MEDICAL          C      35000          15.23            1   \n",
       "4              MEDICAL          C      35000          14.27            1   \n",
       "...                ...        ...        ...            ...          ...   \n",
       "32576         PERSONAL          C       5800          13.16            0   \n",
       "32577         PERSONAL          A      17625           7.49            0   \n",
       "32578  HOMEIMPROVEMENT          B      35000          10.99            1   \n",
       "32579         PERSONAL          B      15000          11.48            0   \n",
       "32580          MEDICAL          B       6475           9.99            0   \n",
       "\n",
       "       loan_percent_income cb_person_default_on_file  \\\n",
       "0                     0.59                         Y   \n",
       "1                     0.10                         N   \n",
       "2                     0.57                         N   \n",
       "3                     0.53                         N   \n",
       "4                     0.55                         Y   \n",
       "...                    ...                       ...   \n",
       "32576                 0.11                         N   \n",
       "32577                 0.15                         N   \n",
       "32578                 0.46                         N   \n",
       "32579                 0.10                         N   \n",
       "32580                 0.15                         N   \n",
       "\n",
       "       cb_person_cred_hist_length  \n",
       "0                               3  \n",
       "1                               2  \n",
       "2                               3  \n",
       "3                               2  \n",
       "4                               4  \n",
       "...                           ...  \n",
       "32576                          30  \n",
       "32577                          19  \n",
       "32578                          28  \n",
       "32579                          26  \n",
       "32580                          30  \n",
       "\n",
       "[32581 rows x 12 columns]"
      ]
     },
     "execution_count": 56,
     "metadata": {},
     "output_type": "execute_result"
    }
   ],
   "source": [
    "# importing dataset as dataframe\n",
    "\n",
    "df = pd.read_csv(\"credit_risk_dataset.csv\")\n",
    "df"
   ]
  },
  {
   "cell_type": "markdown",
   "id": "cddff0c6-3110-4078-9186-7c7f3b873766",
   "metadata": {},
   "source": [
    "<b>About the Dataset:</b>\n",
    "\n",
    "Name: Credit Risk Dataset\n",
    "\n",
    "Source: https://www.kaggle.com/datasets/laotse/credit-risk-dataset/data?select=credit_risk_dataset.csv\n",
    "\n",
    "Author: Lao Tse\n",
    "\n",
    "License: CC0 Public Domain \n",
    "\n",
    "Fields:\n",
    "- person_emp_length\t= Years employed\n",
    "- loan_grade = Perceived risk rating assigned to a loan from A-G (low risk-high risk)\n",
    "- loan_int_rate = Interest Rate\n",
    "- loan_percent_income = Loan/Income\n",
    "- cb_person_default_on_file = Has borrower defaulted before? (Y/N)\n",
    "- cb_person_cred_hist_length = Length of credit history in years\n",
    "- loan_status = 0 is non default 1 is default"
   ]
  },
  {
   "cell_type": "markdown",
   "id": "c4cb574a-4e17-476b-ae84-d9034d83c923",
   "metadata": {},
   "source": [
    "#### Data Exploration and Visualizations"
   ]
  },
  {
   "cell_type": "code",
   "execution_count": 59,
   "id": "2c0892a5-5a8d-47f9-a357-60866d16ba61",
   "metadata": {},
   "outputs": [
    {
     "data": {
      "text/plain": [
       "(32581, 12)"
      ]
     },
     "execution_count": 59,
     "metadata": {},
     "output_type": "execute_result"
    }
   ],
   "source": [
    "# shape of dataset\n",
    "df.shape"
   ]
  },
  {
   "cell_type": "code",
   "execution_count": 60,
   "id": "17e6ba21-a571-49aa-8164-fa6f6b96173c",
   "metadata": {},
   "outputs": [
    {
     "name": "stdout",
     "output_type": "stream",
     "text": [
      "<class 'pandas.core.frame.DataFrame'>\n",
      "RangeIndex: 32581 entries, 0 to 32580\n",
      "Data columns (total 12 columns):\n",
      " #   Column                      Non-Null Count  Dtype  \n",
      "---  ------                      --------------  -----  \n",
      " 0   person_age                  32581 non-null  int64  \n",
      " 1   person_income               32581 non-null  int64  \n",
      " 2   person_home_ownership       32581 non-null  object \n",
      " 3   person_emp_length           31686 non-null  float64\n",
      " 4   loan_intent                 32581 non-null  object \n",
      " 5   loan_grade                  32581 non-null  object \n",
      " 6   loan_amnt                   32581 non-null  int64  \n",
      " 7   loan_int_rate               29465 non-null  float64\n",
      " 8   loan_status                 32581 non-null  int64  \n",
      " 9   loan_percent_income         32581 non-null  float64\n",
      " 10  cb_person_default_on_file   32581 non-null  object \n",
      " 11  cb_person_cred_hist_length  32581 non-null  int64  \n",
      "dtypes: float64(3), int64(5), object(4)\n",
      "memory usage: 3.0+ MB\n"
     ]
    }
   ],
   "source": [
    "# viewing data types & non-nulls\n",
    "df.info()"
   ]
  },
  {
   "cell_type": "code",
   "execution_count": 61,
   "id": "a4dfc43e-97f8-4345-b0d0-36c9a0871cd0",
   "metadata": {},
   "outputs": [
    {
     "data": {
      "text/html": [
       "<div>\n",
       "<style scoped>\n",
       "    .dataframe tbody tr th:only-of-type {\n",
       "        vertical-align: middle;\n",
       "    }\n",
       "\n",
       "    .dataframe tbody tr th {\n",
       "        vertical-align: top;\n",
       "    }\n",
       "\n",
       "    .dataframe thead th {\n",
       "        text-align: right;\n",
       "    }\n",
       "</style>\n",
       "<table border=\"1\" class=\"dataframe\">\n",
       "  <thead>\n",
       "    <tr style=\"text-align: right;\">\n",
       "      <th></th>\n",
       "      <th>person_age</th>\n",
       "      <th>person_income</th>\n",
       "      <th>person_emp_length</th>\n",
       "      <th>loan_amnt</th>\n",
       "      <th>loan_int_rate</th>\n",
       "      <th>loan_status</th>\n",
       "      <th>loan_percent_income</th>\n",
       "      <th>cb_person_cred_hist_length</th>\n",
       "    </tr>\n",
       "  </thead>\n",
       "  <tbody>\n",
       "    <tr>\n",
       "      <th>count</th>\n",
       "      <td>32581.000000</td>\n",
       "      <td>3.258100e+04</td>\n",
       "      <td>31686.000000</td>\n",
       "      <td>32581.000000</td>\n",
       "      <td>29465.000000</td>\n",
       "      <td>32581.000000</td>\n",
       "      <td>32581.000000</td>\n",
       "      <td>32581.000000</td>\n",
       "    </tr>\n",
       "    <tr>\n",
       "      <th>mean</th>\n",
       "      <td>27.734600</td>\n",
       "      <td>6.607485e+04</td>\n",
       "      <td>4.789686</td>\n",
       "      <td>9589.371106</td>\n",
       "      <td>11.011695</td>\n",
       "      <td>0.218164</td>\n",
       "      <td>0.170203</td>\n",
       "      <td>5.804211</td>\n",
       "    </tr>\n",
       "    <tr>\n",
       "      <th>std</th>\n",
       "      <td>6.348078</td>\n",
       "      <td>6.198312e+04</td>\n",
       "      <td>4.142630</td>\n",
       "      <td>6322.086646</td>\n",
       "      <td>3.240459</td>\n",
       "      <td>0.413006</td>\n",
       "      <td>0.106782</td>\n",
       "      <td>4.055001</td>\n",
       "    </tr>\n",
       "    <tr>\n",
       "      <th>min</th>\n",
       "      <td>20.000000</td>\n",
       "      <td>4.000000e+03</td>\n",
       "      <td>0.000000</td>\n",
       "      <td>500.000000</td>\n",
       "      <td>5.420000</td>\n",
       "      <td>0.000000</td>\n",
       "      <td>0.000000</td>\n",
       "      <td>2.000000</td>\n",
       "    </tr>\n",
       "    <tr>\n",
       "      <th>25%</th>\n",
       "      <td>23.000000</td>\n",
       "      <td>3.850000e+04</td>\n",
       "      <td>2.000000</td>\n",
       "      <td>5000.000000</td>\n",
       "      <td>7.900000</td>\n",
       "      <td>0.000000</td>\n",
       "      <td>0.090000</td>\n",
       "      <td>3.000000</td>\n",
       "    </tr>\n",
       "    <tr>\n",
       "      <th>50%</th>\n",
       "      <td>26.000000</td>\n",
       "      <td>5.500000e+04</td>\n",
       "      <td>4.000000</td>\n",
       "      <td>8000.000000</td>\n",
       "      <td>10.990000</td>\n",
       "      <td>0.000000</td>\n",
       "      <td>0.150000</td>\n",
       "      <td>4.000000</td>\n",
       "    </tr>\n",
       "    <tr>\n",
       "      <th>75%</th>\n",
       "      <td>30.000000</td>\n",
       "      <td>7.920000e+04</td>\n",
       "      <td>7.000000</td>\n",
       "      <td>12200.000000</td>\n",
       "      <td>13.470000</td>\n",
       "      <td>0.000000</td>\n",
       "      <td>0.230000</td>\n",
       "      <td>8.000000</td>\n",
       "    </tr>\n",
       "    <tr>\n",
       "      <th>max</th>\n",
       "      <td>144.000000</td>\n",
       "      <td>6.000000e+06</td>\n",
       "      <td>123.000000</td>\n",
       "      <td>35000.000000</td>\n",
       "      <td>23.220000</td>\n",
       "      <td>1.000000</td>\n",
       "      <td>0.830000</td>\n",
       "      <td>30.000000</td>\n",
       "    </tr>\n",
       "  </tbody>\n",
       "</table>\n",
       "</div>"
      ],
      "text/plain": [
       "         person_age  person_income  person_emp_length     loan_amnt  \\\n",
       "count  32581.000000   3.258100e+04       31686.000000  32581.000000   \n",
       "mean      27.734600   6.607485e+04           4.789686   9589.371106   \n",
       "std        6.348078   6.198312e+04           4.142630   6322.086646   \n",
       "min       20.000000   4.000000e+03           0.000000    500.000000   \n",
       "25%       23.000000   3.850000e+04           2.000000   5000.000000   \n",
       "50%       26.000000   5.500000e+04           4.000000   8000.000000   \n",
       "75%       30.000000   7.920000e+04           7.000000  12200.000000   \n",
       "max      144.000000   6.000000e+06         123.000000  35000.000000   \n",
       "\n",
       "       loan_int_rate   loan_status  loan_percent_income  \\\n",
       "count   29465.000000  32581.000000         32581.000000   \n",
       "mean       11.011695      0.218164             0.170203   \n",
       "std         3.240459      0.413006             0.106782   \n",
       "min         5.420000      0.000000             0.000000   \n",
       "25%         7.900000      0.000000             0.090000   \n",
       "50%        10.990000      0.000000             0.150000   \n",
       "75%        13.470000      0.000000             0.230000   \n",
       "max        23.220000      1.000000             0.830000   \n",
       "\n",
       "       cb_person_cred_hist_length  \n",
       "count                32581.000000  \n",
       "mean                     5.804211  \n",
       "std                      4.055001  \n",
       "min                      2.000000  \n",
       "25%                      3.000000  \n",
       "50%                      4.000000  \n",
       "75%                      8.000000  \n",
       "max                     30.000000  "
      ]
     },
     "execution_count": 61,
     "metadata": {},
     "output_type": "execute_result"
    }
   ],
   "source": [
    "# statistical overview of data\n",
    "df.describe()"
   ]
  },
  {
   "cell_type": "code",
   "execution_count": 66,
   "id": "d5f34c00-4e0a-4c93-a1a2-438f04b426ce",
   "metadata": {},
   "outputs": [
    {
     "data": {
      "text/plain": [
       "Index(['person_age', 'person_income', 'person_home_ownership',\n",
       "       'person_emp_length', 'loan_intent', 'loan_grade', 'loan_amnt',\n",
       "       'loan_int_rate', 'loan_status', 'loan_percent_income',\n",
       "       'cb_person_default_on_file', 'cb_person_cred_hist_length'],\n",
       "      dtype='object')"
      ]
     },
     "execution_count": 66,
     "metadata": {},
     "output_type": "execute_result"
    }
   ],
   "source": [
    "# column names\n",
    "df.columns"
   ]
  },
  {
   "cell_type": "code",
   "execution_count": 68,
   "id": "364cb805-b753-4409-b68b-9361c977a9d7",
   "metadata": {},
   "outputs": [
    {
     "data": {
      "text/plain": [
       "person_age                       0\n",
       "person_income                    0\n",
       "person_home_ownership            0\n",
       "person_emp_length              895\n",
       "loan_intent                      0\n",
       "loan_grade                       0\n",
       "loan_amnt                        0\n",
       "loan_int_rate                 3116\n",
       "loan_status                      0\n",
       "loan_percent_income              0\n",
       "cb_person_default_on_file        0\n",
       "cb_person_cred_hist_length       0\n",
       "dtype: int64"
      ]
     },
     "execution_count": 68,
     "metadata": {},
     "output_type": "execute_result"
    }
   ],
   "source": [
    "# count of nulls\n",
    "df.isnull().sum()"
   ]
  },
  {
   "cell_type": "code",
   "execution_count": 70,
   "id": "4c72047e-a9c2-4566-b550-2033f4bdc2cf",
   "metadata": {},
   "outputs": [],
   "source": [
    "# filling interest rate nulls with median rate \n",
    "df[\"loan_int_rate\"].fillna(df[\"loan_int_rate\"].median(), inplace=True)\n",
    "\n",
    "# dropping employment length nulls\n",
    "df = df.dropna(subset=[\"person_emp_length\"])"
   ]
  },
  {
   "cell_type": "code",
   "execution_count": 72,
   "id": "aca7aa5f-1438-4239-8aaa-bdee14f08442",
   "metadata": {},
   "outputs": [
    {
     "data": {
      "text/plain": [
       "person_age                    0\n",
       "person_income                 0\n",
       "person_home_ownership         0\n",
       "person_emp_length             0\n",
       "loan_intent                   0\n",
       "loan_grade                    0\n",
       "loan_amnt                     0\n",
       "loan_int_rate                 0\n",
       "loan_status                   0\n",
       "loan_percent_income           0\n",
       "cb_person_default_on_file     0\n",
       "cb_person_cred_hist_length    0\n",
       "dtype: int64"
      ]
     },
     "execution_count": 72,
     "metadata": {},
     "output_type": "execute_result"
    }
   ],
   "source": [
    "# updated null count\n",
    "df.isnull().sum()"
   ]
  },
  {
   "cell_type": "code",
   "execution_count": 74,
   "id": "a6bedeeb-ab6a-46bd-ad67-2666b38c8662",
   "metadata": {},
   "outputs": [
    {
     "data": {
      "image/png": "[encoded data removed]",
      "text/plain": [
       "<Figure size 640x480 with 1 Axes>"
      ]
     },
     "metadata": {},
     "output_type": "display_data"
    }
   ],
   "source": [
    "# pie chart for home ownership \n",
    "\n",
    "# Grouping data and counting occurrences\n",
    "data_counts = df[\"person_home_ownership\"].value_counts()  # Count occurrences of each category\n",
    "\n",
    "# Creating pie chart\n",
    "plt.pie(data_counts, labels=data_counts.index, autopct='%1.1f%%', startangle=45)\n",
    "plt.title(\"Breakdown of Homeownership\")\n",
    "\n",
    "plt.show()"
   ]
  },
  {
   "cell_type": "code",
   "execution_count": 75,
   "id": "64ffeb07-7efd-4978-b96c-9db018608f05",
   "metadata": {},
   "outputs": [
    {
     "data": {
      "image/png": "[encoded data removed]",
      "text/plain": [
       "<Figure size 640x480 with 1 Axes>"
      ]
     },
     "metadata": {},
     "output_type": "display_data"
    }
   ],
   "source": [
    "# Bar chart showing distribution of loan types \n",
    "\n",
    "# Counting occurrences of each category\n",
    "class_counts = df[\"loan_intent\"].value_counts()\n",
    "\n",
    "plt.bar(class_counts.index, class_counts.values, color='navy',zorder=3)\n",
    "\n",
    "# Labels and title\n",
    "\n",
    "plt.title(\"Distribution of Loan Types\")\n",
    "\n",
    "# rotating x-axis labels\n",
    "plt.xticks(rotation=40)\n",
    "\n",
    "# adding grid\n",
    "plt.grid(axis='y')\n",
    "\n",
    "plt.show()\n"
   ]
  },
  {
   "cell_type": "code",
   "execution_count": 76,
   "id": "6995ba27-923d-456c-9e99-0c2a3d429246",
   "metadata": {},
   "outputs": [
    {
     "data": {
      "image/png": "[encoded data removed]",
      "text/plain": [
       "<Figure size 640x480 with 1 Axes>"
      ]
     },
     "metadata": {},
     "output_type": "display_data"
    }
   ],
   "source": [
    "# Bar chart showing distribution of loan Grades \n",
    "\n",
    "# Counting occurrences of each category\n",
    "class_counts = df[\"loan_grade\"].value_counts().sort_values(ascending=True)\n",
    "\n",
    "plt.barh(class_counts.index, class_counts.values, color='darkgreen',zorder=3)\n",
    "\n",
    "# Labels and title\n",
    "\n",
    "plt.title(\"Distribution of Loan Grades\")\n",
    "\n",
    "# adding grid\n",
    "plt.grid(axis='x')\n",
    "\n",
    "plt.show()\n"
   ]
  },
  {
   "cell_type": "code",
   "execution_count": 78,
   "id": "c5affb31-11d7-4c18-95d0-b47249e4a482",
   "metadata": {},
   "outputs": [
    {
     "data": {
      "image/png": "[encoded data removed]",
      "text/plain": [
       "<Figure size 600x400 with 1 Axes>"
      ]
     },
     "metadata": {},
     "output_type": "display_data"
    }
   ],
   "source": [
    "# boxplot for borrower ages \n",
    "\n",
    "# plotting box plot\n",
    "plt.figure(figsize=(6, 4))\n",
    "plt.boxplot(df['person_age'],vert=True)  \n",
    "\n",
    "# adding titles and lables\n",
    "plt.title('Boxplot of Person Age')\n",
    "plt.ylabel('Age')\n",
    "\n",
    "plt.show()"
   ]
  },
  {
   "cell_type": "code",
   "execution_count": 80,
   "id": "a4f59a0a-822e-41ff-a201-fca6874b9bd4",
   "metadata": {},
   "outputs": [
    {
     "data": {
      "image/png": "[encoded data removed]",
      "text/plain": [
       "<Figure size 640x480 with 1 Axes>"
      ]
     },
     "metadata": {},
     "output_type": "display_data"
    }
   ],
   "source": [
    "# boxplot for borrower incomes\n",
    "\n",
    "plt.boxplot(df['person_income'],vert=True)  \n",
    "\n",
    "# lables and title\n",
    "plt.title('Boxplot of Person Income')\n",
    "plt.ylabel('Income')\n",
    "\n",
    "# adding grid\n",
    "plt.grid(axis='y')\n",
    "\n",
    "plt.show()\n"
   ]
  },
  {
   "cell_type": "code",
   "execution_count": 82,
   "id": "4cd45bc8-a9e6-4729-b7ba-190be48a6c17",
   "metadata": {},
   "outputs": [
    {
     "data": {
      "image/png": "[encoded data removed]",
      "text/plain": [
       "<Figure size 640x480 with 1 Axes>"
      ]
     },
     "metadata": {},
     "output_type": "display_data"
    }
   ],
   "source": [
    "# pie chart showing loan status breakdown\n",
    "\n",
    "# mapping values for labels\n",
    "status_counts = df['loan_status'].map({0: 'Non-Default', 1: 'Default'}).value_counts()\n",
    "\n",
    "# plotting pie chart\n",
    "plt.pie(status_counts, labels=status_counts.index, autopct='%1.1f%%')\n",
    "plt.title('Loan Status Breakdown')\n",
    "\n",
    "plt.show()\n"
   ]
  },
  {
   "cell_type": "markdown",
   "id": "6055a610-59e2-4db9-a44b-e7526757bc37",
   "metadata": {},
   "source": [
    "# Part 2: Data Preprocessing"
   ]
  },
  {
   "cell_type": "markdown",
   "id": "ef168469-625c-40b1-baa5-ee0ac5a96d4b",
   "metadata": {},
   "source": [
    "#### Preperation for learning and explanation"
   ]
  },
  {
   "cell_type": "code",
   "execution_count": 87,
   "id": "cd47b21b-2dfd-4a80-9447-103cbc20d14a",
   "metadata": {},
   "outputs": [],
   "source": [
    "# dropping age outliers over 80\n",
    "\n",
    "df = df[df['person_age'] <= 80]"
   ]
  },
  {
   "cell_type": "code",
   "execution_count": 89,
   "id": "00c66e1e-d7e5-420f-b536-4947c1d9ecd8",
   "metadata": {},
   "outputs": [],
   "source": [
    "# dropping income outliers for incomes above $100,000\n",
    "\n",
    "df = df[df['person_income'] <= 100000]"
   ]
  },
  {
   "cell_type": "code",
   "execution_count": 92,
   "id": "a637bf6f-64ad-4965-becb-de45f84be359",
   "metadata": {},
   "outputs": [
    {
     "data": {
      "text/html": [
       "<div>\n",
       "<style scoped>\n",
       "    .dataframe tbody tr th:only-of-type {\n",
       "        vertical-align: middle;\n",
       "    }\n",
       "\n",
       "    .dataframe tbody tr th {\n",
       "        vertical-align: top;\n",
       "    }\n",
       "\n",
       "    .dataframe thead th {\n",
       "        text-align: right;\n",
       "    }\n",
       "</style>\n",
       "<table border=\"1\" class=\"dataframe\">\n",
       "  <thead>\n",
       "    <tr style=\"text-align: right;\">\n",
       "      <th></th>\n",
       "      <th>person_age</th>\n",
       "      <th>person_income</th>\n",
       "      <th>person_home_ownership</th>\n",
       "      <th>person_emp_length</th>\n",
       "      <th>loan_intent</th>\n",
       "      <th>loan_grade</th>\n",
       "      <th>loan_amnt</th>\n",
       "      <th>loan_int_rate</th>\n",
       "      <th>loan_status</th>\n",
       "      <th>loan_percent_income</th>\n",
       "      <th>cb_person_default_on_file</th>\n",
       "      <th>cb_person_cred_hist_length</th>\n",
       "    </tr>\n",
       "  </thead>\n",
       "  <tbody>\n",
       "    <tr>\n",
       "      <th>1</th>\n",
       "      <td>21</td>\n",
       "      <td>9600</td>\n",
       "      <td>OWN</td>\n",
       "      <td>5.0</td>\n",
       "      <td>EDUCATION</td>\n",
       "      <td>B</td>\n",
       "      <td>1000</td>\n",
       "      <td>11.14</td>\n",
       "      <td>0</td>\n",
       "      <td>0.10</td>\n",
       "      <td>N</td>\n",
       "      <td>2</td>\n",
       "    </tr>\n",
       "    <tr>\n",
       "      <th>2</th>\n",
       "      <td>25</td>\n",
       "      <td>9600</td>\n",
       "      <td>MORTGAGE</td>\n",
       "      <td>1.0</td>\n",
       "      <td>MEDICAL</td>\n",
       "      <td>C</td>\n",
       "      <td>5500</td>\n",
       "      <td>12.87</td>\n",
       "      <td>1</td>\n",
       "      <td>0.57</td>\n",
       "      <td>N</td>\n",
       "      <td>3</td>\n",
       "    </tr>\n",
       "    <tr>\n",
       "      <th>3</th>\n",
       "      <td>23</td>\n",
       "      <td>65500</td>\n",
       "      <td>RENT</td>\n",
       "      <td>4.0</td>\n",
       "      <td>MEDICAL</td>\n",
       "      <td>C</td>\n",
       "      <td>35000</td>\n",
       "      <td>15.23</td>\n",
       "      <td>1</td>\n",
       "      <td>0.53</td>\n",
       "      <td>N</td>\n",
       "      <td>2</td>\n",
       "    </tr>\n",
       "    <tr>\n",
       "      <th>4</th>\n",
       "      <td>24</td>\n",
       "      <td>54400</td>\n",
       "      <td>RENT</td>\n",
       "      <td>8.0</td>\n",
       "      <td>MEDICAL</td>\n",
       "      <td>C</td>\n",
       "      <td>35000</td>\n",
       "      <td>14.27</td>\n",
       "      <td>1</td>\n",
       "      <td>0.55</td>\n",
       "      <td>Y</td>\n",
       "      <td>4</td>\n",
       "    </tr>\n",
       "    <tr>\n",
       "      <th>5</th>\n",
       "      <td>21</td>\n",
       "      <td>9900</td>\n",
       "      <td>OWN</td>\n",
       "      <td>2.0</td>\n",
       "      <td>VENTURE</td>\n",
       "      <td>A</td>\n",
       "      <td>2500</td>\n",
       "      <td>7.14</td>\n",
       "      <td>1</td>\n",
       "      <td>0.25</td>\n",
       "      <td>N</td>\n",
       "      <td>2</td>\n",
       "    </tr>\n",
       "  </tbody>\n",
       "</table>\n",
       "</div>"
      ],
      "text/plain": [
       "   person_age  person_income person_home_ownership  person_emp_length  \\\n",
       "1          21           9600                   OWN                5.0   \n",
       "2          25           9600              MORTGAGE                1.0   \n",
       "3          23          65500                  RENT                4.0   \n",
       "4          24          54400                  RENT                8.0   \n",
       "5          21           9900                   OWN                2.0   \n",
       "\n",
       "  loan_intent loan_grade  loan_amnt  loan_int_rate  loan_status  \\\n",
       "1   EDUCATION          B       1000          11.14            0   \n",
       "2     MEDICAL          C       5500          12.87            1   \n",
       "3     MEDICAL          C      35000          15.23            1   \n",
       "4     MEDICAL          C      35000          14.27            1   \n",
       "5     VENTURE          A       2500           7.14            1   \n",
       "\n",
       "   loan_percent_income cb_person_default_on_file  cb_person_cred_hist_length  \n",
       "1                 0.10                         N                           2  \n",
       "2                 0.57                         N                           3  \n",
       "3                 0.53                         N                           2  \n",
       "4                 0.55                         Y                           4  \n",
       "5                 0.25                         N                           2  "
      ]
     },
     "execution_count": 92,
     "metadata": {},
     "output_type": "execute_result"
    }
   ],
   "source": [
    "# dropping first row that contained emp_length outlier \n",
    "df = df.drop(df.index[0])\n",
    "df.head()"
   ]
  },
  {
   "cell_type": "code",
   "execution_count": 93,
   "id": "fa48e7c4-2cdd-43ec-abcb-7bf1b69ebdd6",
   "metadata": {},
   "outputs": [
    {
     "data": {
      "text/plain": [
       "(27514, 12)"
      ]
     },
     "execution_count": 93,
     "metadata": {},
     "output_type": "execute_result"
    }
   ],
   "source": [
    "# shape after removing outliers \n",
    "\n",
    "df.shape"
   ]
  },
  {
   "cell_type": "code",
   "execution_count": 96,
   "id": "66ec2e07-f00c-4165-9089-a235ebaf8ac9",
   "metadata": {},
   "outputs": [],
   "source": [
    "# Encoding categorical data into numerical data \n",
    "\n",
    "from sklearn.preprocessing import LabelEncoder\n",
    "\n",
    "# Initializing LabelEncoder\n",
    "label_encoder = LabelEncoder()\n",
    "\n",
    "# Label Encoding the home owenership column\n",
    "df[\"person_home_ownership\"] = label_encoder.fit_transform(df[\"person_home_ownership\"]) # mortgage = 0, other = 1, own = 2, rent = 3 (based on alphabetical order)\n",
    "\n",
    "# Label Encoding the loan intent column\n",
    "df[\"loan_intent\"] = label_encoder.fit_transform(df[\"loan_intent\"]) # debt = 0, education = 1, home = 2, medical = 3, personal = 4, venture = 5\n",
    "\n",
    "# Label Encoding the loan grade column\n",
    "df[\"loan_grade\"] = label_encoder.fit_transform(df[\"loan_grade\"]) # A = 0, B = 1, C = 2, D = 3, E = 4, F = 5, G = 6\n",
    "\n",
    "# Label Encoding the loan grade column\n",
    "df[\"cb_person_default_on_file\"] = label_encoder.fit_transform(df[\"cb_person_default_on_file\"]) # N = 0, Y = 1\n"
   ]
  },
  {
   "cell_type": "code",
   "execution_count": 97,
   "id": "52738e5a-9502-48e7-a246-07e86276b977",
   "metadata": {},
   "outputs": [
    {
     "data": {
      "text/html": [
       "<div>\n",
       "<style scoped>\n",
       "    .dataframe tbody tr th:only-of-type {\n",
       "        vertical-align: middle;\n",
       "    }\n",
       "\n",
       "    .dataframe tbody tr th {\n",
       "        vertical-align: top;\n",
       "    }\n",
       "\n",
       "    .dataframe thead th {\n",
       "        text-align: right;\n",
       "    }\n",
       "</style>\n",
       "<table border=\"1\" class=\"dataframe\">\n",
       "  <thead>\n",
       "    <tr style=\"text-align: right;\">\n",
       "      <th></th>\n",
       "      <th>person_age</th>\n",
       "      <th>person_income</th>\n",
       "      <th>person_home_ownership</th>\n",
       "      <th>person_emp_length</th>\n",
       "      <th>loan_intent</th>\n",
       "      <th>loan_grade</th>\n",
       "      <th>loan_amnt</th>\n",
       "      <th>loan_int_rate</th>\n",
       "      <th>loan_status</th>\n",
       "      <th>loan_percent_income</th>\n",
       "      <th>cb_person_default_on_file</th>\n",
       "      <th>cb_person_cred_hist_length</th>\n",
       "    </tr>\n",
       "  </thead>\n",
       "  <tbody>\n",
       "    <tr>\n",
       "      <th>1</th>\n",
       "      <td>21</td>\n",
       "      <td>9600</td>\n",
       "      <td>2</td>\n",
       "      <td>5.0</td>\n",
       "      <td>1</td>\n",
       "      <td>1</td>\n",
       "      <td>1000</td>\n",
       "      <td>11.14</td>\n",
       "      <td>0</td>\n",
       "      <td>0.10</td>\n",
       "      <td>0</td>\n",
       "      <td>2</td>\n",
       "    </tr>\n",
       "    <tr>\n",
       "      <th>2</th>\n",
       "      <td>25</td>\n",
       "      <td>9600</td>\n",
       "      <td>0</td>\n",
       "      <td>1.0</td>\n",
       "      <td>3</td>\n",
       "      <td>2</td>\n",
       "      <td>5500</td>\n",
       "      <td>12.87</td>\n",
       "      <td>1</td>\n",
       "      <td>0.57</td>\n",
       "      <td>0</td>\n",
       "      <td>3</td>\n",
       "    </tr>\n",
       "    <tr>\n",
       "      <th>3</th>\n",
       "      <td>23</td>\n",
       "      <td>65500</td>\n",
       "      <td>3</td>\n",
       "      <td>4.0</td>\n",
       "      <td>3</td>\n",
       "      <td>2</td>\n",
       "      <td>35000</td>\n",
       "      <td>15.23</td>\n",
       "      <td>1</td>\n",
       "      <td>0.53</td>\n",
       "      <td>0</td>\n",
       "      <td>2</td>\n",
       "    </tr>\n",
       "    <tr>\n",
       "      <th>4</th>\n",
       "      <td>24</td>\n",
       "      <td>54400</td>\n",
       "      <td>3</td>\n",
       "      <td>8.0</td>\n",
       "      <td>3</td>\n",
       "      <td>2</td>\n",
       "      <td>35000</td>\n",
       "      <td>14.27</td>\n",
       "      <td>1</td>\n",
       "      <td>0.55</td>\n",
       "      <td>1</td>\n",
       "      <td>4</td>\n",
       "    </tr>\n",
       "    <tr>\n",
       "      <th>5</th>\n",
       "      <td>21</td>\n",
       "      <td>9900</td>\n",
       "      <td>2</td>\n",
       "      <td>2.0</td>\n",
       "      <td>5</td>\n",
       "      <td>0</td>\n",
       "      <td>2500</td>\n",
       "      <td>7.14</td>\n",
       "      <td>1</td>\n",
       "      <td>0.25</td>\n",
       "      <td>0</td>\n",
       "      <td>2</td>\n",
       "    </tr>\n",
       "  </tbody>\n",
       "</table>\n",
       "</div>"
      ],
      "text/plain": [
       "   person_age  person_income  person_home_ownership  person_emp_length  \\\n",
       "1          21           9600                      2                5.0   \n",
       "2          25           9600                      0                1.0   \n",
       "3          23          65500                      3                4.0   \n",
       "4          24          54400                      3                8.0   \n",
       "5          21           9900                      2                2.0   \n",
       "\n",
       "   loan_intent  loan_grade  loan_amnt  loan_int_rate  loan_status  \\\n",
       "1            1           1       1000          11.14            0   \n",
       "2            3           2       5500          12.87            1   \n",
       "3            3           2      35000          15.23            1   \n",
       "4            3           2      35000          14.27            1   \n",
       "5            5           0       2500           7.14            1   \n",
       "\n",
       "   loan_percent_income  cb_person_default_on_file  cb_person_cred_hist_length  \n",
       "1                 0.10                          0                           2  \n",
       "2                 0.57                          0                           3  \n",
       "3                 0.53                          0                           2  \n",
       "4                 0.55                          1                           4  \n",
       "5                 0.25                          0                           2  "
      ]
     },
     "execution_count": 97,
     "metadata": {},
     "output_type": "execute_result"
    }
   ],
   "source": [
    "df.head()"
   ]
  },
  {
   "cell_type": "markdown",
   "id": "417e28d6-f298-4806-b7f5-666de98043a3",
   "metadata": {},
   "source": [
    "#### Preprocessing Explanation:\n",
    "-  Dropped rows where person_age > 80 and person_income > 100,000\n",
    "These are extreme outliers that could skew model performance and don't provide useful predictive power\n",
    "\n",
    "- Label encoded categorical features to make them usable by the ML model:\n",
    "\n",
    "    - person_home_ownership encoded as Mortgage = 0, Other = 1, Own = 2, Rent = 3\n",
    "\n",
    "    - loan_intent encoded as DebtConsolidation = 0, Education = 1, ..., Venture = 5\n",
    "\n",
    "    - loan_grade encoded from A = 0 to G = 6 to maintain credit grade order\n",
    "\n",
    "    - cb_person_default_on_file encoded as No = 0, Yes = 1 to indicate previous default history\n",
    "\n",
    "- Encoding is important as machine learning models require numerical values and can't interpret text "
   ]
  },
  {
   "cell_type": "markdown",
   "id": "739a616e-9b86-45c1-b709-cd3e846e1d47",
   "metadata": {},
   "source": [
    "## Part 3: Model Selection and Evaluation"
   ]
  },
  {
   "cell_type": "code",
   "execution_count": 100,
   "id": "8a44f8c3-7317-423e-b404-08fb2f1209a4",
   "metadata": {},
   "outputs": [],
   "source": [
    "# Importing libraries for machine learning \n",
    "\n",
    "from sklearn.model_selection import train_test_split\n",
    "from sklearn.neural_network import MLPClassifier\n",
    "from sklearn.metrics import accuracy_score"
   ]
  },
  {
   "cell_type": "code",
   "execution_count": 101,
   "id": "abdf6516-a551-434c-b302-d7a08694129f",
   "metadata": {},
   "outputs": [
    {
     "name": "stdout",
     "output_type": "stream",
     "text": [
      "       person_age  person_income  person_home_ownership  person_emp_length  \\\n",
      "1              21           9600                      2                5.0   \n",
      "2              25           9600                      0                1.0   \n",
      "3              23          65500                      3                4.0   \n",
      "4              24          54400                      3                8.0   \n",
      "5              21           9900                      2                2.0   \n",
      "...           ...            ...                    ...                ...   \n",
      "32574          52          65004                      3                4.0   \n",
      "32575          52          64500                      3                0.0   \n",
      "32576          57          53000                      0                1.0   \n",
      "32578          65          76000                      3                3.0   \n",
      "32580          66          42000                      3                2.0   \n",
      "\n",
      "       loan_intent  loan_grade  loan_amnt  loan_int_rate  loan_percent_income  \\\n",
      "1                1           1       1000          11.14                 0.10   \n",
      "2                3           2       5500          12.87                 0.57   \n",
      "3                3           2      35000          15.23                 0.53   \n",
      "4                3           2      35000          14.27                 0.55   \n",
      "5                5           0       2500           7.14                 0.25   \n",
      "...            ...         ...        ...            ...                  ...   \n",
      "32574            4           3      20000          15.58                 0.31   \n",
      "32575            1           1       5000          11.26                 0.08   \n",
      "32576            4           2       5800          13.16                 0.11   \n",
      "32578            2           1      35000          10.99                 0.46   \n",
      "32580            3           1       6475           9.99                 0.15   \n",
      "\n",
      "       cb_person_default_on_file  cb_person_cred_hist_length  \n",
      "1                              0                           2  \n",
      "2                              0                           3  \n",
      "3                              0                           2  \n",
      "4                              1                           4  \n",
      "5                              0                           2  \n",
      "...                          ...                         ...  \n",
      "32574                          1                          19  \n",
      "32575                          0                          20  \n",
      "32576                          0                          30  \n",
      "32578                          0                          28  \n",
      "32580                          0                          30  \n",
      "\n",
      "[27514 rows x 11 columns] 1        0\n",
      "2        1\n",
      "3        1\n",
      "4        1\n",
      "5        1\n",
      "        ..\n",
      "32574    1\n",
      "32575    0\n",
      "32576    0\n",
      "32578    1\n",
      "32580    0\n",
      "Name: loan_status, Length: 27514, dtype: int64\n"
     ]
    }
   ],
   "source": [
    "# setting feature and lable sets\n",
    "\n",
    "y = df[\"loan_status\"]\n",
    "X = df.drop([\"loan_status\"],axis=1)\n",
    "print(X,y)"
   ]
  },
  {
   "cell_type": "markdown",
   "id": "6668e1ab-3e99-46d8-adef-7e9c8942e62d",
   "metadata": {},
   "source": [
    "#### Test 1:"
   ]
  },
  {
   "cell_type": "code",
   "execution_count": 103,
   "id": "96f614d5-1cfb-473e-acb8-fe917449b9d6",
   "metadata": {},
   "outputs": [
    {
     "name": "stdout",
     "output_type": "stream",
     "text": [
      "20635\n",
      "6879\n"
     ]
    }
   ],
   "source": [
    "# splitting into training and testing sets\n",
    "X_train, X_test, y_train, y_test = train_test_split(X,y,test_size=0.25,random_state=9)\n",
    "\n",
    "# verifying split ratios\n",
    "print(len(X_train))  \n",
    "print(len(X_test))"
   ]
  },
  {
   "cell_type": "markdown",
   "id": "3f9dd01b-0178-4078-947f-7adfac4397cd",
   "metadata": {},
   "source": [
    "#### MLP Justification\n",
    "\n",
    "- Performs well on medium to large structured datasets like this one (27k rows), especially with encoded categorical and numeric features\n",
    "\n",
    "- Capable of capturing complex nonlinear relationships between variables such as income, loan grade, and loan status\n",
    "\n",
    "- Learns patterns through multiple layers making it more flexible than linear models \n",
    "\n",
    "- Suitable for binary classification tasks like predicting loan default and works best when features are standardized, as done during preprocessing"
   ]
  },
  {
   "cell_type": "code",
   "execution_count": 105,
   "id": "83141874-5e34-4817-9a9b-419e64a2da32",
   "metadata": {},
   "outputs": [],
   "source": [
    "# creating MLP classifier 1\n",
    "\n",
    "ann_clf1 = MLPClassifier(hidden_layer_sizes=(32,16),activation='relu',learning_rate_init=0.001,learning_rate='adaptive',max_iter=300,early_stopping=True,verbose=True)"
   ]
  },
  {
   "cell_type": "code",
   "execution_count": 106,
   "id": "93ba3a97-91dd-44c4-aa9a-22f6467caf2e",
   "metadata": {},
   "outputs": [
    {
     "name": "stdout",
     "output_type": "stream",
     "text": [
      "Iteration 1, loss = 8.88734544\n",
      "Validation score: 0.779554\n",
      "Iteration 2, loss = 7.72863464\n",
      "Validation score: 0.767926\n",
      "Iteration 3, loss = 7.41029257\n",
      "Validation score: 0.768411\n",
      "Iteration 4, loss = 7.10613897\n",
      "Validation score: 0.795058\n",
      "Iteration 5, loss = 6.93926895\n",
      "Validation score: 0.474322\n",
      "Iteration 6, loss = 6.80650808\n",
      "Validation score: 0.792151\n",
      "Iteration 7, loss = 6.55341927\n",
      "Validation score: 0.767926\n",
      "Iteration 8, loss = 6.67847348\n",
      "Validation score: 0.482558\n",
      "Iteration 9, loss = 7.40795404\n",
      "Validation score: 0.775194\n",
      "Iteration 10, loss = 7.41740593\n",
      "Validation score: 0.807171\n",
      "Iteration 11, loss = 6.94716610\n",
      "Validation score: 0.806202\n",
      "Iteration 12, loss = 6.65727342\n",
      "Validation score: 0.774709\n",
      "Iteration 13, loss = 7.71625598\n",
      "Validation score: 0.810562\n",
      "Iteration 14, loss = 7.04352174\n",
      "Validation score: 0.793605\n",
      "Iteration 15, loss = 7.17597246\n",
      "Validation score: 0.673450\n",
      "Iteration 16, loss = 7.15556634\n",
      "Validation score: 0.786822\n",
      "Iteration 17, loss = 7.16118522\n",
      "Validation score: 0.767442\n",
      "Iteration 18, loss = 6.72550632\n",
      "Validation score: 0.767442\n",
      "Iteration 19, loss = 7.28394442\n",
      "Validation score: 0.766473\n",
      "Iteration 20, loss = 6.80689110\n",
      "Validation score: 0.770349\n",
      "Iteration 21, loss = 7.31027969\n",
      "Validation score: 0.765988\n",
      "Iteration 22, loss = 7.10583141\n",
      "Validation score: 0.263081\n",
      "Iteration 23, loss = 6.66640243\n",
      "Validation score: 0.312016\n",
      "Iteration 24, loss = 7.60635535\n",
      "Validation score: 0.782946\n",
      "Validation score did not improve more than tol=0.000100 for 10 consecutive epochs. Stopping.\n"
     ]
    },
    {
     "data": {
      "text/html": [
       "<style>#sk-container-id-1 {color: black;}#sk-container-id-1 pre{padding: 0;}#sk-container-id-1 div.sk-toggleable {background-color: white;}#sk-container-id-1 label.sk-toggleable__label {cursor: pointer;display: block;width: 100%;margin-bottom: 0;padding: 0.3em;box-sizing: border-box;text-align: center;}#sk-container-id-1 label.sk-toggleable__label-arrow:before {content: \"▸\";float: left;margin-right: 0.25em;color: #696969;}#sk-container-id-1 label.sk-toggleable__label-arrow:hover:before {color: black;}#sk-container-id-1 div.sk-estimator:hover label.sk-toggleable__label-arrow:before {color: black;}#sk-container-id-1 div.sk-toggleable__content {max-height: 0;max-width: 0;overflow: hidden;text-align: left;background-color: #f0f8ff;}#sk-container-id-1 div.sk-toggleable__content pre {margin: 0.2em;color: black;border-radius: 0.25em;background-color: #f0f8ff;}#sk-container-id-1 input.sk-toggleable__control:checked~div.sk-toggleable__content {max-height: 200px;max-width: 100%;overflow: auto;}#sk-container-id-1 input.sk-toggleable__control:checked~label.sk-toggleable__label-arrow:before {content: \"▾\";}#sk-container-id-1 div.sk-estimator input.sk-toggleable__control:checked~label.sk-toggleable__label {background-color: #d4ebff;}#sk-container-id-1 div.sk-label input.sk-toggleable__control:checked~label.sk-toggleable__label {background-color: #d4ebff;}#sk-container-id-1 input.sk-hidden--visually {border: 0;clip: rect(1px 1px 1px 1px);clip: rect(1px, 1px, 1px, 1px);height: 1px;margin: -1px;overflow: hidden;padding: 0;position: absolute;width: 1px;}#sk-container-id-1 div.sk-estimator {font-family: monospace;background-color: #f0f8ff;border: 1px dotted black;border-radius: 0.25em;box-sizing: border-box;margin-bottom: 0.5em;}#sk-container-id-1 div.sk-estimator:hover {background-color: #d4ebff;}#sk-container-id-1 div.sk-parallel-item::after {content: \"\";width: 100%;border-bottom: 1px solid gray;flex-grow: 1;}#sk-container-id-1 div.sk-label:hover label.sk-toggleable__label {background-color: #d4ebff;}#sk-container-id-1 div.sk-serial::before {content: \"\";position: absolute;border-left: 1px solid gray;box-sizing: border-box;top: 0;bottom: 0;left: 50%;z-index: 0;}#sk-container-id-1 div.sk-serial {display: flex;flex-direction: column;align-items: center;background-color: white;padding-right: 0.2em;padding-left: 0.2em;position: relative;}#sk-container-id-1 div.sk-item {position: relative;z-index: 1;}#sk-container-id-1 div.sk-parallel {display: flex;align-items: stretch;justify-content: center;background-color: white;position: relative;}#sk-container-id-1 div.sk-item::before, #sk-container-id-1 div.sk-parallel-item::before {content: \"\";position: absolute;border-left: 1px solid gray;box-sizing: border-box;top: 0;bottom: 0;left: 50%;z-index: -1;}#sk-container-id-1 div.sk-parallel-item {display: flex;flex-direction: column;z-index: 1;position: relative;background-color: white;}#sk-container-id-1 div.sk-parallel-item:first-child::after {align-self: flex-end;width: 50%;}#sk-container-id-1 div.sk-parallel-item:last-child::after {align-self: flex-start;width: 50%;}#sk-container-id-1 div.sk-parallel-item:only-child::after {width: 0;}#sk-container-id-1 div.sk-dashed-wrapped {border: 1px dashed gray;margin: 0 0.4em 0.5em 0.4em;box-sizing: border-box;padding-bottom: 0.4em;background-color: white;}#sk-container-id-1 div.sk-label label {font-family: monospace;font-weight: bold;display: inline-block;line-height: 1.2em;}#sk-container-id-1 div.sk-label-container {text-align: center;}#sk-container-id-1 div.sk-container {/* jupyter's `normalize.less` sets `[hidden] { display: none; }` but bootstrap.min.css set `[hidden] { display: none !important; }` so we also need the `!important` here to be able to override the default hidden behavior on the sphinx rendered scikit-learn.org. See: https://github.com/scikit-learn/scikit-learn/issues/21755 */display: inline-block !important;position: relative;}#sk-container-id-1 div.sk-text-repr-fallback {display: none;}</style><div id=\"sk-container-id-1\" class=\"sk-top-container\"><div class=\"sk-text-repr-fallback\"><pre>MLPClassifier(early_stopping=True, hidden_layer_sizes=(32, 16),\n",
       "              learning_rate=&#x27;adaptive&#x27;, max_iter=300, verbose=True)</pre><b>In a Jupyter environment, please rerun this cell to show the HTML representation or trust the notebook. <br />On GitHub, the HTML representation is unable to render, please try loading this page with nbviewer.org.</b></div><div class=\"sk-container\" hidden><div class=\"sk-item\"><div class=\"sk-estimator sk-toggleable\"><input class=\"sk-toggleable__control sk-hidden--visually\" id=\"sk-estimator-id-1\" type=\"checkbox\" checked><label for=\"sk-estimator-id-1\" class=\"sk-toggleable__label sk-toggleable__label-arrow\">MLPClassifier</label><div class=\"sk-toggleable__content\"><pre>MLPClassifier(early_stopping=True, hidden_layer_sizes=(32, 16),\n",
       "              learning_rate=&#x27;adaptive&#x27;, max_iter=300, verbose=True)</pre></div></div></div></div></div>"
      ],
      "text/plain": [
       "MLPClassifier(early_stopping=True, hidden_layer_sizes=(32, 16),\n",
       "              learning_rate='adaptive', max_iter=300, verbose=True)"
      ]
     },
     "execution_count": 106,
     "metadata": {},
     "output_type": "execute_result"
    }
   ],
   "source": [
    "# fitting classifier\n",
    "\n",
    "ann_clf1.fit(X_train,y_train)"
   ]
  },
  {
   "cell_type": "code",
   "execution_count": 107,
   "id": "cd61adec-2737-4094-b7eb-5bed19fbf935",
   "metadata": {},
   "outputs": [
    {
     "data": {
      "image/png": "[encoded data removed]",
      "text/plain": [
       "<Figure size 640x480 with 1 Axes>"
      ]
     },
     "metadata": {},
     "output_type": "display_data"
    }
   ],
   "source": [
    "# plotting MLP loss curve\n",
    "\n",
    "plt.plot(ann_clf1.loss_curve_)\n",
    "\n",
    "# titles and lables\n",
    "plt.title(\"MLP Loss Curve\")\n",
    "plt.xlabel(\"Iterations\")\n",
    "plt.ylabel(\"Loss\")\n",
    "\n",
    "plt.show()"
   ]
  },
  {
   "cell_type": "code",
   "execution_count": 108,
   "id": "a29b7d1e-746a-40ef-ae26-e4145275f8ec",
   "metadata": {},
   "outputs": [
    {
     "data": {
      "text/plain": [
       "0.8204022292221953"
      ]
     },
     "execution_count": 108,
     "metadata": {},
     "output_type": "execute_result"
    }
   ],
   "source": [
    "# training set accuracy\n",
    "ann_clf1.score(X_train,y_train)"
   ]
  },
  {
   "cell_type": "code",
   "execution_count": 109,
   "id": "25059132-a3ff-4ebb-bcb2-6ad74d2d5a8a",
   "metadata": {},
   "outputs": [
    {
     "data": {
      "text/plain": [
       "0.8265736298880652"
      ]
     },
     "execution_count": 109,
     "metadata": {},
     "output_type": "execute_result"
    }
   ],
   "source": [
    "# test set accuracy\n",
    "y_pred=ann_clf1.predict(X_test)\n",
    "accuracy_score(y_test,y_pred)"
   ]
  },
  {
   "cell_type": "markdown",
   "id": "09a8d0d4-9c9b-4a45-8dd0-6641365cded0",
   "metadata": {},
   "source": [
    "#### Test 2:"
   ]
  },
  {
   "cell_type": "code",
   "execution_count": 113,
   "id": "9478964b-07a5-4871-938d-c69a55c56c09",
   "metadata": {},
   "outputs": [],
   "source": [
    "# setting feature and lable sets\n",
    "\n",
    "y = df[\"loan_status\"]\n",
    "X = df.drop([\"loan_status\"],axis=1)"
   ]
  },
  {
   "cell_type": "code",
   "execution_count": 117,
   "id": "9be6f8ea-98a4-451b-a746-135eb08946a5",
   "metadata": {},
   "outputs": [],
   "source": [
    "from sklearn.preprocessing import StandardScaler\n",
    "\n",
    "# scaling features to avoid bias towards larger features\n",
    "scaler = StandardScaler()\n",
    "\n",
    "# splitting into train and test sets\n",
    "X_train, X_test, y_train, y_test = train_test_split(X, y, test_size=0.2, random_state=2)\n",
    "\n",
    "# fitting standard scalar onto training set\n",
    "X_train = scaler.fit_transform(X_train)\n",
    "\n",
    "X_test = scaler.transform(X_test)"
   ]
  },
  {
   "cell_type": "code",
   "execution_count": 119,
   "id": "510acd05-dc00-4204-8d2c-2fe9983fb9a0",
   "metadata": {},
   "outputs": [
    {
     "name": "stdout",
     "output_type": "stream",
     "text": [
      "Iteration 1, loss = 0.55135607\n",
      "Iteration 2, loss = 0.38452111\n",
      "Iteration 3, loss = 0.36772793\n",
      "Iteration 4, loss = 0.35660365\n",
      "Iteration 5, loss = 0.34969000\n",
      "Iteration 6, loss = 0.34387406\n",
      "Iteration 7, loss = 0.33984616\n",
      "Iteration 8, loss = 0.33569786\n",
      "Iteration 9, loss = 0.33258734\n",
      "Iteration 10, loss = 0.32878430\n",
      "Iteration 11, loss = 0.32602655\n",
      "Iteration 12, loss = 0.32238599\n",
      "Iteration 13, loss = 0.31950662\n",
      "Iteration 14, loss = 0.31666318\n",
      "Iteration 15, loss = 0.31430801\n",
      "Iteration 16, loss = 0.31121718\n",
      "Iteration 17, loss = 0.30881904\n",
      "Iteration 18, loss = 0.30610565\n",
      "Iteration 19, loss = 0.30427371\n",
      "Iteration 20, loss = 0.30238036\n",
      "Iteration 21, loss = 0.30036021\n",
      "Iteration 22, loss = 0.29826328\n",
      "Iteration 23, loss = 0.29687815\n",
      "Iteration 24, loss = 0.29506032\n",
      "Iteration 25, loss = 0.29336892\n",
      "Iteration 26, loss = 0.29251900\n",
      "Iteration 27, loss = 0.29056844\n",
      "Iteration 28, loss = 0.28983958\n",
      "Iteration 29, loss = 0.28878086\n",
      "Iteration 30, loss = 0.28716483\n",
      "Iteration 31, loss = 0.28639184\n",
      "Iteration 32, loss = 0.28489341\n",
      "Iteration 33, loss = 0.28410133\n",
      "Iteration 34, loss = 0.28327083\n",
      "Iteration 35, loss = 0.28215866\n",
      "Iteration 36, loss = 0.28073582\n",
      "Iteration 37, loss = 0.27964312\n",
      "Iteration 38, loss = 0.27928705\n",
      "Iteration 39, loss = 0.27925557\n",
      "Iteration 40, loss = 0.27698320\n",
      "Iteration 41, loss = 0.27643495\n",
      "Iteration 42, loss = 0.27536828\n",
      "Iteration 43, loss = 0.27456772\n",
      "Iteration 44, loss = 0.27386633\n",
      "Iteration 45, loss = 0.27248455\n",
      "Iteration 46, loss = 0.27151530\n",
      "Iteration 47, loss = 0.27093517\n",
      "Iteration 48, loss = 0.26952319\n",
      "Iteration 49, loss = 0.26880690\n",
      "Iteration 50, loss = 0.26767790\n",
      "Iteration 51, loss = 0.26765099\n",
      "Iteration 52, loss = 0.26608219\n",
      "Iteration 53, loss = 0.26559408\n",
      "Iteration 54, loss = 0.26470015\n",
      "Iteration 55, loss = 0.26401944\n",
      "Iteration 56, loss = 0.26290596\n",
      "Iteration 57, loss = 0.26297857\n",
      "Iteration 58, loss = 0.26193515\n",
      "Iteration 59, loss = 0.26144224\n",
      "Iteration 60, loss = 0.26062072\n",
      "Iteration 61, loss = 0.26008762\n",
      "Iteration 62, loss = 0.25943353\n",
      "Iteration 63, loss = 0.25936197\n",
      "Iteration 64, loss = 0.25858542\n",
      "Iteration 65, loss = 0.25810848\n",
      "Iteration 66, loss = 0.25733257\n",
      "Iteration 67, loss = 0.25668644\n",
      "Iteration 68, loss = 0.25654780\n",
      "Iteration 69, loss = 0.25660623\n",
      "Iteration 70, loss = 0.25558003\n",
      "Iteration 71, loss = 0.25490024\n",
      "Iteration 72, loss = 0.25428348\n",
      "Iteration 73, loss = 0.25393554\n",
      "Iteration 74, loss = 0.25254952\n",
      "Iteration 75, loss = 0.25209355\n",
      "Iteration 76, loss = 0.25179872\n",
      "Iteration 77, loss = 0.25164398\n",
      "Iteration 78, loss = 0.25193176\n",
      "Iteration 79, loss = 0.25154272\n",
      "Iteration 80, loss = 0.24985025\n",
      "Iteration 81, loss = 0.24999795\n",
      "Iteration 82, loss = 0.24964561\n",
      "Iteration 83, loss = 0.24882801\n",
      "Iteration 84, loss = 0.24851809\n",
      "Iteration 85, loss = 0.24822064\n",
      "Iteration 86, loss = 0.24853218\n",
      "Iteration 87, loss = 0.24749755\n",
      "Iteration 88, loss = 0.24727699\n",
      "Iteration 89, loss = 0.24673373\n",
      "Iteration 90, loss = 0.24616545\n",
      "Iteration 91, loss = 0.24603270\n",
      "Iteration 92, loss = 0.24520660\n",
      "Iteration 93, loss = 0.24527449\n",
      "Iteration 94, loss = 0.24510105\n",
      "Iteration 95, loss = 0.24423584\n",
      "Iteration 96, loss = 0.24424205\n",
      "Iteration 97, loss = 0.24435448\n",
      "Iteration 98, loss = 0.24372829\n",
      "Iteration 99, loss = 0.24281154\n",
      "Iteration 100, loss = 0.24327196\n",
      "Iteration 101, loss = 0.24274133\n",
      "Iteration 102, loss = 0.24221627\n",
      "Iteration 103, loss = 0.24191942\n",
      "Iteration 104, loss = 0.24144975\n",
      "Iteration 105, loss = 0.24187102\n",
      "Iteration 106, loss = 0.24099479\n",
      "Iteration 107, loss = 0.24028603\n",
      "Iteration 108, loss = 0.24146145\n",
      "Iteration 109, loss = 0.24046438\n",
      "Iteration 110, loss = 0.24058051\n",
      "Iteration 111, loss = 0.23938730\n",
      "Iteration 112, loss = 0.23997815\n",
      "Iteration 113, loss = 0.23970737\n",
      "Iteration 114, loss = 0.23900797\n",
      "Iteration 115, loss = 0.23916968\n",
      "Iteration 116, loss = 0.23861551\n",
      "Iteration 117, loss = 0.23823739\n",
      "Iteration 118, loss = 0.23841243\n",
      "Iteration 119, loss = 0.23857054\n",
      "Iteration 120, loss = 0.23808346\n",
      "Iteration 121, loss = 0.23852646\n",
      "Iteration 122, loss = 0.23861026\n",
      "Iteration 123, loss = 0.23734361\n",
      "Iteration 124, loss = 0.23861025\n",
      "Iteration 125, loss = 0.23735110\n",
      "Iteration 126, loss = 0.23674809\n",
      "Iteration 127, loss = 0.23618549\n",
      "Iteration 128, loss = 0.23608538\n",
      "Iteration 129, loss = 0.23606977\n",
      "Iteration 130, loss = 0.23631121\n",
      "Iteration 131, loss = 0.23570602\n",
      "Iteration 132, loss = 0.23578484\n",
      "Iteration 133, loss = 0.23516545\n",
      "Iteration 134, loss = 0.23515207\n",
      "Iteration 135, loss = 0.23538362\n",
      "Iteration 136, loss = 0.23531564\n",
      "Iteration 137, loss = 0.23542588\n",
      "Iteration 138, loss = 0.23505774\n",
      "Iteration 139, loss = 0.23475728\n",
      "Iteration 140, loss = 0.23382417\n",
      "Iteration 141, loss = 0.23424725\n",
      "Iteration 142, loss = 0.23342227\n",
      "Iteration 143, loss = 0.23321317\n",
      "Iteration 144, loss = 0.23415793\n",
      "Iteration 145, loss = 0.23314311\n",
      "Iteration 146, loss = 0.23397390\n",
      "Iteration 147, loss = 0.23295934\n",
      "Iteration 148, loss = 0.23319648\n",
      "Iteration 149, loss = 0.23278194\n",
      "Iteration 150, loss = 0.23282992\n",
      "Iteration 151, loss = 0.23272613\n",
      "Iteration 152, loss = 0.23293612\n",
      "Iteration 153, loss = 0.23296429\n",
      "Iteration 154, loss = 0.23170905\n",
      "Iteration 155, loss = 0.23206928\n",
      "Iteration 156, loss = 0.23185155\n",
      "Iteration 157, loss = 0.23134296\n",
      "Iteration 158, loss = 0.23157167\n",
      "Iteration 159, loss = 0.23195886\n",
      "Iteration 160, loss = 0.23151001\n",
      "Iteration 161, loss = 0.23184342\n",
      "Iteration 162, loss = 0.23098048\n",
      "Iteration 163, loss = 0.23109672\n",
      "Iteration 164, loss = 0.23084244\n",
      "Iteration 165, loss = 0.23102057\n",
      "Iteration 166, loss = 0.23215248\n",
      "Iteration 167, loss = 0.23022695\n",
      "Iteration 168, loss = 0.23168793\n",
      "Iteration 169, loss = 0.23079723\n",
      "Iteration 170, loss = 0.22983556\n",
      "Iteration 171, loss = 0.23046760\n",
      "Iteration 172, loss = 0.23166906\n",
      "Iteration 173, loss = 0.22969452\n",
      "Iteration 174, loss = 0.22945405\n",
      "Iteration 175, loss = 0.22920469\n",
      "Iteration 176, loss = 0.23255908\n",
      "Iteration 177, loss = 0.22968235\n",
      "Iteration 178, loss = 0.22876922\n",
      "Iteration 179, loss = 0.22921874\n",
      "Iteration 180, loss = 0.22960239\n",
      "Iteration 181, loss = 0.22911698\n",
      "Iteration 182, loss = 0.23068801\n",
      "Iteration 183, loss = 0.22840635\n",
      "Iteration 184, loss = 0.22880086\n",
      "Iteration 185, loss = 0.22888147\n",
      "Iteration 186, loss = 0.22843661\n",
      "Iteration 187, loss = 0.22858704\n",
      "Iteration 188, loss = 0.22807852\n",
      "Iteration 189, loss = 0.22746327\n",
      "Iteration 190, loss = 0.22915960\n",
      "Iteration 191, loss = 0.22874849\n",
      "Iteration 192, loss = 0.22801050\n",
      "Iteration 193, loss = 0.22733005\n",
      "Iteration 194, loss = 0.22798959\n",
      "Iteration 195, loss = 0.22767486\n",
      "Iteration 196, loss = 0.22748786\n",
      "Iteration 197, loss = 0.22799440\n",
      "Iteration 198, loss = 0.22781741\n",
      "Iteration 199, loss = 0.22680476\n",
      "Iteration 200, loss = 0.22650326\n"
     ]
    },
    {
     "name": "stderr",
     "output_type": "stream",
     "text": [
      "C:\\Users\\youne\\anaconda3\\Lib\\site-packages\\sklearn\\neural_network\\_multilayer_perceptron.py:691: ConvergenceWarning: Stochastic Optimizer: Maximum iterations (200) reached and the optimization hasn't converged yet.\n",
      "  warnings.warn(\n"
     ]
    },
    {
     "data": {
      "text/html": [
       "<style>#sk-container-id-2 {color: black;}#sk-container-id-2 pre{padding: 0;}#sk-container-id-2 div.sk-toggleable {background-color: white;}#sk-container-id-2 label.sk-toggleable__label {cursor: pointer;display: block;width: 100%;margin-bottom: 0;padding: 0.3em;box-sizing: border-box;text-align: center;}#sk-container-id-2 label.sk-toggleable__label-arrow:before {content: \"▸\";float: left;margin-right: 0.25em;color: #696969;}#sk-container-id-2 label.sk-toggleable__label-arrow:hover:before {color: black;}#sk-container-id-2 div.sk-estimator:hover label.sk-toggleable__label-arrow:before {color: black;}#sk-container-id-2 div.sk-toggleable__content {max-height: 0;max-width: 0;overflow: hidden;text-align: left;background-color: #f0f8ff;}#sk-container-id-2 div.sk-toggleable__content pre {margin: 0.2em;color: black;border-radius: 0.25em;background-color: #f0f8ff;}#sk-container-id-2 input.sk-toggleable__control:checked~div.sk-toggleable__content {max-height: 200px;max-width: 100%;overflow: auto;}#sk-container-id-2 input.sk-toggleable__control:checked~label.sk-toggleable__label-arrow:before {content: \"▾\";}#sk-container-id-2 div.sk-estimator input.sk-toggleable__control:checked~label.sk-toggleable__label {background-color: #d4ebff;}#sk-container-id-2 div.sk-label input.sk-toggleable__control:checked~label.sk-toggleable__label {background-color: #d4ebff;}#sk-container-id-2 input.sk-hidden--visually {border: 0;clip: rect(1px 1px 1px 1px);clip: rect(1px, 1px, 1px, 1px);height: 1px;margin: -1px;overflow: hidden;padding: 0;position: absolute;width: 1px;}#sk-container-id-2 div.sk-estimator {font-family: monospace;background-color: #f0f8ff;border: 1px dotted black;border-radius: 0.25em;box-sizing: border-box;margin-bottom: 0.5em;}#sk-container-id-2 div.sk-estimator:hover {background-color: #d4ebff;}#sk-container-id-2 div.sk-parallel-item::after {content: \"\";width: 100%;border-bottom: 1px solid gray;flex-grow: 1;}#sk-container-id-2 div.sk-label:hover label.sk-toggleable__label {background-color: #d4ebff;}#sk-container-id-2 div.sk-serial::before {content: \"\";position: absolute;border-left: 1px solid gray;box-sizing: border-box;top: 0;bottom: 0;left: 50%;z-index: 0;}#sk-container-id-2 div.sk-serial {display: flex;flex-direction: column;align-items: center;background-color: white;padding-right: 0.2em;padding-left: 0.2em;position: relative;}#sk-container-id-2 div.sk-item {position: relative;z-index: 1;}#sk-container-id-2 div.sk-parallel {display: flex;align-items: stretch;justify-content: center;background-color: white;position: relative;}#sk-container-id-2 div.sk-item::before, #sk-container-id-2 div.sk-parallel-item::before {content: \"\";position: absolute;border-left: 1px solid gray;box-sizing: border-box;top: 0;bottom: 0;left: 50%;z-index: -1;}#sk-container-id-2 div.sk-parallel-item {display: flex;flex-direction: column;z-index: 1;position: relative;background-color: white;}#sk-container-id-2 div.sk-parallel-item:first-child::after {align-self: flex-end;width: 50%;}#sk-container-id-2 div.sk-parallel-item:last-child::after {align-self: flex-start;width: 50%;}#sk-container-id-2 div.sk-parallel-item:only-child::after {width: 0;}#sk-container-id-2 div.sk-dashed-wrapped {border: 1px dashed gray;margin: 0 0.4em 0.5em 0.4em;box-sizing: border-box;padding-bottom: 0.4em;background-color: white;}#sk-container-id-2 div.sk-label label {font-family: monospace;font-weight: bold;display: inline-block;line-height: 1.2em;}#sk-container-id-2 div.sk-label-container {text-align: center;}#sk-container-id-2 div.sk-container {/* jupyter's `normalize.less` sets `[hidden] { display: none; }` but bootstrap.min.css set `[hidden] { display: none !important; }` so we also need the `!important` here to be able to override the default hidden behavior on the sphinx rendered scikit-learn.org. See: https://github.com/scikit-learn/scikit-learn/issues/21755 */display: inline-block !important;position: relative;}#sk-container-id-2 div.sk-text-repr-fallback {display: none;}</style><div id=\"sk-container-id-2\" class=\"sk-top-container\"><div class=\"sk-text-repr-fallback\"><pre>MLPClassifier(hidden_layer_sizes=(32, 16), random_state=42, verbose=True)</pre><b>In a Jupyter environment, please rerun this cell to show the HTML representation or trust the notebook. <br />On GitHub, the HTML representation is unable to render, please try loading this page with nbviewer.org.</b></div><div class=\"sk-container\" hidden><div class=\"sk-item\"><div class=\"sk-estimator sk-toggleable\"><input class=\"sk-toggleable__control sk-hidden--visually\" id=\"sk-estimator-id-2\" type=\"checkbox\" checked><label for=\"sk-estimator-id-2\" class=\"sk-toggleable__label sk-toggleable__label-arrow\">MLPClassifier</label><div class=\"sk-toggleable__content\"><pre>MLPClassifier(hidden_layer_sizes=(32, 16), random_state=42, verbose=True)</pre></div></div></div></div></div>"
      ],
      "text/plain": [
       "MLPClassifier(hidden_layer_sizes=(32, 16), random_state=42, verbose=True)"
      ]
     },
     "execution_count": 119,
     "metadata": {},
     "output_type": "execute_result"
    }
   ],
   "source": [
    "# creating MLP classifier 2                                   \n",
    "ann_clf2 = MLPClassifier(hidden_layer_sizes=(32, 16), activation=\"relu\", max_iter=200, random_state=42, verbose=True)\n",
    "\n",
    "# training model\n",
    "ann_clf2.fit(X_train, y_train)"
   ]
  },
  {
   "cell_type": "code",
   "execution_count": 120,
   "id": "ba4b00ec-a935-4447-833d-4b78b5bc0226",
   "metadata": {},
   "outputs": [
    {
     "data": {
      "image/png": "[encoded data removed]",
      "text/plain": [
       "<Figure size 640x480 with 1 Axes>"
      ]
     },
     "metadata": {},
     "output_type": "display_data"
    }
   ],
   "source": [
    "# plotting MLP loss curve\n",
    "\n",
    "plt.plot(ann_clf2.loss_curve_)\n",
    "\n",
    "# titles and lables\n",
    "plt.title(\"MLP Loss Curve\")\n",
    "plt.xlabel(\"Iterations\")\n",
    "plt.ylabel(\"Loss\")\n",
    "\n",
    "plt.show()"
   ]
  },
  {
   "cell_type": "code",
   "execution_count": 121,
   "id": "6426267d-f5d8-4790-8c38-806dc6f68849",
   "metadata": {},
   "outputs": [
    {
     "data": {
      "text/plain": [
       "0.9198582526918359"
      ]
     },
     "execution_count": 121,
     "metadata": {},
     "output_type": "execute_result"
    }
   ],
   "source": [
    "# training accuracy\n",
    "ann_clf2.score(X_train,y_train)"
   ]
  },
  {
   "cell_type": "code",
   "execution_count": 122,
   "id": "fb44bf18-602e-4d73-9a26-76ea03fad010",
   "metadata": {},
   "outputs": [
    {
     "data": {
      "text/plain": [
       "0.9120479738324551"
      ]
     },
     "execution_count": 122,
     "metadata": {},
     "output_type": "execute_result"
    }
   ],
   "source": [
    "# test accuracy\n",
    "y_pred=ann_clf2.predict(X_test)\n",
    "accuracy_score(y_test,y_pred)"
   ]
  },
  {
   "cell_type": "markdown",
   "id": "5c3c96e6-ed62-4f0e-b035-ca6661b52c95",
   "metadata": {},
   "source": [
    "#### Test 3:"
   ]
  },
  {
   "cell_type": "code",
   "execution_count": 124,
   "id": "c20233a6-4312-407a-964e-fe8eb8047a8e",
   "metadata": {},
   "outputs": [],
   "source": [
    "# setting feature and lable sets\n",
    "\n",
    "y = df[\"loan_status\"]\n",
    "X = df.drop([\"loan_status\"],axis=1)"
   ]
  },
  {
   "cell_type": "code",
   "execution_count": 125,
   "id": "0f457458-a58a-41ca-8129-5b4048b490c0",
   "metadata": {},
   "outputs": [],
   "source": [
    "scaler = StandardScaler()\n",
    "X_train, X_test, y_train, y_test = train_test_split(X, y, test_size=0.2, random_state=6)\n",
    "X_train = scaler.fit_transform(X_train)\n",
    "X_test = scaler.transform(X_test)"
   ]
  },
  {
   "cell_type": "code",
   "execution_count": 126,
   "id": "835b2534-02a5-415a-9201-ae142ee4f105",
   "metadata": {},
   "outputs": [
    {
     "name": "stdout",
     "output_type": "stream",
     "text": [
      "Iteration 1, loss = 0.37248083\n",
      "Iteration 2, loss = 0.32916170\n",
      "Iteration 3, loss = 0.31181613\n",
      "Iteration 4, loss = 0.29784342\n",
      "Iteration 5, loss = 0.29402224\n",
      "Iteration 6, loss = 0.28602059\n",
      "Iteration 7, loss = 0.28545798\n",
      "Iteration 8, loss = 0.28140209\n",
      "Iteration 9, loss = 0.27917767\n",
      "Iteration 10, loss = 0.27146211\n",
      "Iteration 11, loss = 0.27253905\n",
      "Iteration 12, loss = 0.27007366\n",
      "Iteration 13, loss = 0.26223098\n",
      "Iteration 14, loss = 0.26280240\n",
      "Iteration 15, loss = 0.25649930\n",
      "Iteration 16, loss = 0.25583663\n",
      "Iteration 17, loss = 0.25193694\n",
      "Iteration 18, loss = 0.25995674\n",
      "Iteration 19, loss = 0.24989602\n",
      "Iteration 20, loss = 0.24593412\n",
      "Iteration 21, loss = 0.24974764\n",
      "Iteration 22, loss = 0.24613100\n",
      "Iteration 23, loss = 0.24281368\n",
      "Iteration 24, loss = 0.23928452\n",
      "Iteration 25, loss = 0.24112138\n",
      "Iteration 26, loss = 0.24005429\n",
      "Iteration 27, loss = 0.23950758\n",
      "Iteration 28, loss = 0.24217169\n",
      "Iteration 29, loss = 0.23419965\n",
      "Iteration 30, loss = 0.23476309\n",
      "Iteration 31, loss = 0.23785102\n",
      "Iteration 32, loss = 0.22873682\n",
      "Iteration 33, loss = 0.22903463\n",
      "Iteration 34, loss = 0.22829611\n",
      "Iteration 35, loss = 0.22322509\n",
      "Iteration 36, loss = 0.22577596\n",
      "Iteration 37, loss = 0.22884244\n",
      "Iteration 38, loss = 0.22370467\n",
      "Iteration 39, loss = 0.22315515\n",
      "Iteration 40, loss = 0.24804331\n",
      "Iteration 41, loss = 0.22801755\n",
      "Iteration 42, loss = 0.22589619\n",
      "Iteration 43, loss = 0.22321377\n",
      "Iteration 44, loss = 0.22320887\n",
      "Iteration 45, loss = 0.21972492\n",
      "Iteration 46, loss = 0.22231429\n",
      "Iteration 47, loss = 0.21817216\n",
      "Iteration 48, loss = 0.22531272\n",
      "Iteration 49, loss = 0.21971390\n",
      "Iteration 50, loss = 0.21964678\n",
      "Iteration 51, loss = 0.22950021\n",
      "Iteration 52, loss = 0.21682314\n",
      "Iteration 53, loss = 0.21468362\n",
      "Iteration 54, loss = 0.21583719\n",
      "Iteration 55, loss = 0.21504200\n",
      "Iteration 56, loss = 0.21981388\n",
      "Iteration 57, loss = 0.21512980\n",
      "Iteration 58, loss = 0.21847692\n",
      "Iteration 59, loss = 0.21437551\n",
      "Iteration 60, loss = 0.23225403\n",
      "Iteration 61, loss = 0.21399120\n",
      "Iteration 62, loss = 0.21504427\n",
      "Iteration 63, loss = 0.21499555\n",
      "Iteration 64, loss = 0.21175102\n",
      "Iteration 65, loss = 0.21443838\n",
      "Iteration 66, loss = 0.21179802\n",
      "Iteration 67, loss = 0.21243004\n",
      "Iteration 68, loss = 0.21764124\n",
      "Iteration 69, loss = 0.21793102\n",
      "Iteration 70, loss = 0.21129642\n",
      "Iteration 71, loss = 0.21115960\n",
      "Iteration 72, loss = 0.22030880\n",
      "Iteration 73, loss = 0.21715487\n",
      "Iteration 74, loss = 0.20893603\n",
      "Iteration 75, loss = 0.20674710\n",
      "Iteration 76, loss = 0.21122613\n",
      "Iteration 77, loss = 0.21040147\n",
      "Iteration 78, loss = 0.20832537\n",
      "Iteration 79, loss = 0.21229776\n",
      "Iteration 80, loss = 0.20951964\n",
      "Iteration 81, loss = 0.20858288\n",
      "Iteration 82, loss = 0.20752153\n",
      "Iteration 83, loss = 0.21498403\n",
      "Iteration 84, loss = 0.20965435\n",
      "Iteration 85, loss = 0.20997287\n",
      "Iteration 86, loss = 0.20774324\n",
      "Training loss did not improve more than tol=0.000100 for 10 consecutive epochs. Stopping.\n"
     ]
    },
    {
     "data": {
      "text/html": [
       "<style>#sk-container-id-3 {color: black;}#sk-container-id-3 pre{padding: 0;}#sk-container-id-3 div.sk-toggleable {background-color: white;}#sk-container-id-3 label.sk-toggleable__label {cursor: pointer;display: block;width: 100%;margin-bottom: 0;padding: 0.3em;box-sizing: border-box;text-align: center;}#sk-container-id-3 label.sk-toggleable__label-arrow:before {content: \"▸\";float: left;margin-right: 0.25em;color: #696969;}#sk-container-id-3 label.sk-toggleable__label-arrow:hover:before {color: black;}#sk-container-id-3 div.sk-estimator:hover label.sk-toggleable__label-arrow:before {color: black;}#sk-container-id-3 div.sk-toggleable__content {max-height: 0;max-width: 0;overflow: hidden;text-align: left;background-color: #f0f8ff;}#sk-container-id-3 div.sk-toggleable__content pre {margin: 0.2em;color: black;border-radius: 0.25em;background-color: #f0f8ff;}#sk-container-id-3 input.sk-toggleable__control:checked~div.sk-toggleable__content {max-height: 200px;max-width: 100%;overflow: auto;}#sk-container-id-3 input.sk-toggleable__control:checked~label.sk-toggleable__label-arrow:before {content: \"▾\";}#sk-container-id-3 div.sk-estimator input.sk-toggleable__control:checked~label.sk-toggleable__label {background-color: #d4ebff;}#sk-container-id-3 div.sk-label input.sk-toggleable__control:checked~label.sk-toggleable__label {background-color: #d4ebff;}#sk-container-id-3 input.sk-hidden--visually {border: 0;clip: rect(1px 1px 1px 1px);clip: rect(1px, 1px, 1px, 1px);height: 1px;margin: -1px;overflow: hidden;padding: 0;position: absolute;width: 1px;}#sk-container-id-3 div.sk-estimator {font-family: monospace;background-color: #f0f8ff;border: 1px dotted black;border-radius: 0.25em;box-sizing: border-box;margin-bottom: 0.5em;}#sk-container-id-3 div.sk-estimator:hover {background-color: #d4ebff;}#sk-container-id-3 div.sk-parallel-item::after {content: \"\";width: 100%;border-bottom: 1px solid gray;flex-grow: 1;}#sk-container-id-3 div.sk-label:hover label.sk-toggleable__label {background-color: #d4ebff;}#sk-container-id-3 div.sk-serial::before {content: \"\";position: absolute;border-left: 1px solid gray;box-sizing: border-box;top: 0;bottom: 0;left: 50%;z-index: 0;}#sk-container-id-3 div.sk-serial {display: flex;flex-direction: column;align-items: center;background-color: white;padding-right: 0.2em;padding-left: 0.2em;position: relative;}#sk-container-id-3 div.sk-item {position: relative;z-index: 1;}#sk-container-id-3 div.sk-parallel {display: flex;align-items: stretch;justify-content: center;background-color: white;position: relative;}#sk-container-id-3 div.sk-item::before, #sk-container-id-3 div.sk-parallel-item::before {content: \"\";position: absolute;border-left: 1px solid gray;box-sizing: border-box;top: 0;bottom: 0;left: 50%;z-index: -1;}#sk-container-id-3 div.sk-parallel-item {display: flex;flex-direction: column;z-index: 1;position: relative;background-color: white;}#sk-container-id-3 div.sk-parallel-item:first-child::after {align-self: flex-end;width: 50%;}#sk-container-id-3 div.sk-parallel-item:last-child::after {align-self: flex-start;width: 50%;}#sk-container-id-3 div.sk-parallel-item:only-child::after {width: 0;}#sk-container-id-3 div.sk-dashed-wrapped {border: 1px dashed gray;margin: 0 0.4em 0.5em 0.4em;box-sizing: border-box;padding-bottom: 0.4em;background-color: white;}#sk-container-id-3 div.sk-label label {font-family: monospace;font-weight: bold;display: inline-block;line-height: 1.2em;}#sk-container-id-3 div.sk-label-container {text-align: center;}#sk-container-id-3 div.sk-container {/* jupyter's `normalize.less` sets `[hidden] { display: none; }` but bootstrap.min.css set `[hidden] { display: none !important; }` so we also need the `!important` here to be able to override the default hidden behavior on the sphinx rendered scikit-learn.org. See: https://github.com/scikit-learn/scikit-learn/issues/21755 */display: inline-block !important;position: relative;}#sk-container-id-3 div.sk-text-repr-fallback {display: none;}</style><div id=\"sk-container-id-3\" class=\"sk-top-container\"><div class=\"sk-text-repr-fallback\"><pre>MLPClassifier(hidden_layer_sizes=(32, 16, 8), learning_rate=&#x27;adaptive&#x27;,\n",
       "              learning_rate_init=0.01, random_state=17, verbose=True)</pre><b>In a Jupyter environment, please rerun this cell to show the HTML representation or trust the notebook. <br />On GitHub, the HTML representation is unable to render, please try loading this page with nbviewer.org.</b></div><div class=\"sk-container\" hidden><div class=\"sk-item\"><div class=\"sk-estimator sk-toggleable\"><input class=\"sk-toggleable__control sk-hidden--visually\" id=\"sk-estimator-id-3\" type=\"checkbox\" checked><label for=\"sk-estimator-id-3\" class=\"sk-toggleable__label sk-toggleable__label-arrow\">MLPClassifier</label><div class=\"sk-toggleable__content\"><pre>MLPClassifier(hidden_layer_sizes=(32, 16, 8), learning_rate=&#x27;adaptive&#x27;,\n",
       "              learning_rate_init=0.01, random_state=17, verbose=True)</pre></div></div></div></div></div>"
      ],
      "text/plain": [
       "MLPClassifier(hidden_layer_sizes=(32, 16, 8), learning_rate='adaptive',\n",
       "              learning_rate_init=0.01, random_state=17, verbose=True)"
      ]
     },
     "execution_count": 126,
     "metadata": {},
     "output_type": "execute_result"
    }
   ],
   "source": [
    "# Creating MLP classifier 3\n",
    "ann_clf3 = MLPClassifier(hidden_layer_sizes=(32,16,8), activation=\"relu\", max_iter=200, random_state=17,learning_rate_init=0.01,verbose=True,learning_rate=\"adaptive\")\n",
    "ann_clf3.fit(X_train, y_train)"
   ]
  },
  {
   "cell_type": "code",
   "execution_count": 128,
   "id": "24c38632-e7bc-431c-87a9-9834eefb7fbb",
   "metadata": {},
   "outputs": [
    {
     "data": {
      "image/png": "[encoded data removed]",
      "text/plain": [
       "<Figure size 640x480 with 1 Axes>"
      ]
     },
     "metadata": {},
     "output_type": "display_data"
    }
   ],
   "source": [
    "# plotting MLP loss curve\n",
    "\n",
    "plt.plot(ann_clf3.loss_curve_)\n",
    "\n",
    "# titles and lables\n",
    "plt.title(\"MLP Loss Curve\")\n",
    "plt.xlabel(\"Iterations\")\n",
    "plt.ylabel(\"Loss\")\n",
    "\n",
    "plt.show()"
   ]
  },
  {
   "cell_type": "code",
   "execution_count": 132,
   "id": "feafd939-09b4-458d-bb44-0e77a1d02537",
   "metadata": {},
   "outputs": [
    {
     "data": {
      "text/plain": [
       "0.9305801644632229"
      ]
     },
     "execution_count": 132,
     "metadata": {},
     "output_type": "execute_result"
    }
   ],
   "source": [
    "# training accuracy\n",
    "ann_clf3.score(X_train,y_train)"
   ]
  },
  {
   "cell_type": "code",
   "execution_count": 135,
   "id": "5f48cf15-fde9-437f-9754-6748f7246f9e",
   "metadata": {},
   "outputs": [
    {
     "data": {
      "text/plain": [
       "0.9214973650735963"
      ]
     },
     "execution_count": 135,
     "metadata": {},
     "output_type": "execute_result"
    }
   ],
   "source": [
    "# test accuracy\n",
    "y_pred=ann_clf3.predict(X_test)\n",
    "accuracy_score(y_test,y_pred)"
   ]
  },
  {
   "cell_type": "code",
   "execution_count": 136,
   "id": "f306b1d4-ec80-4556-9361-5bf070708fc8",
   "metadata": {},
   "outputs": [
    {
     "name": "stdout",
     "output_type": "stream",
     "text": [
      "              precision    recall  f1-score   support\n",
      "\n",
      "           0       0.91      0.99      0.95      4179\n",
      "           1       0.97      0.70      0.81      1324\n",
      "\n",
      "    accuracy                           0.92      5503\n",
      "   macro avg       0.94      0.85      0.88      5503\n",
      "weighted avg       0.93      0.92      0.92      5503\n",
      "\n"
     ]
    }
   ],
   "source": [
    "# printing classification report for model\n",
    "from sklearn.metrics import classification_report\n",
    "print(classification_report(y_test,y_pred)) "
   ]
  },
  {
   "cell_type": "markdown",
   "id": "e5f324da-ab6f-4db4-be18-e95ff3302446",
   "metadata": {},
   "source": [
    "## Part 4: Conclusion"
   ]
  },
  {
   "cell_type": "markdown",
   "id": "f111d6bc-b120-4f56-ba73-f1d2f99b71b7",
   "metadata": {},
   "source": [
    "<b>Summary and Findings</b>\n",
    "\n",
    "In this assignment, I built 3 different MLP classifiers to evaluate performance on a credit risk dataset. In the first test, I used a basic 2 layer network and applied adaptive learning, which dynamically adjusts the learning rate during training. The loss curve fluctuated and early stopping kicked in but, I reached a solid test accuracy of 82.7%, with only slight overfitting. For the second test, I implemented standard scaling, knowing that MLPs are sensitive to feature scale, giving precdence to features with greater magnitudes. I also removed adaptive learning to isolate its impact and saw a clear improvement in the model’s learning and performance, as accuracy increased to 91.2%, showing the importance of scaling. In my third and final test, I added an extra hidden layer, reintroduced adaptive learning, and increased the learning rate. The loss decreased slightly and accuracy improved again to 92.1%. Although I couldn’t completely eliminate the slight overfitting (which remained around 0.5–1%), I’m pleased with my results achieving 92% test accuracy shows a great classification model."
   ]
  }
 ],
 "metadata": {
  "kernelspec": {
   "display_name": "Python [conda env:base] *",
   "language": "python",
   "name": "conda-base-py"
  },
  "language_info": {
   "codemirror_mode": {
    "name": "ipython",
    "version": 3
   },
   "file_extension": ".py",
   "mimetype": "text/x-python",
   "name": "python",
   "nbconvert_exporter": "python",
   "pygments_lexer": "ipython3",
   "version": "3.11.5"
  }
 },
 "nbformat": 4,
 "nbformat_minor": 5
}
